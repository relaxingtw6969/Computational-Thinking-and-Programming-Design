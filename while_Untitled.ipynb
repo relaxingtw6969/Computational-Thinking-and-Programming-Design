{
  "nbformat": 4,
  "nbformat_minor": 0,
  "metadata": {
    "colab": {
      "name": "while Untitled",
      "provenance": []
    },
    "kernelspec": {
      "name": "python3",
      "display_name": "Python 3"
    }
  },
  "cells": [
    {
      "cell_type": "code",
      "metadata": {
        "id": "CxVd0WOyrBVW",
        "colab_type": "code",
        "colab": {
          "base_uri": "https://localhost:8080/",
          "height": 51
        },
        "outputId": "1309604c-22af-43af-856d-d2384cb7c7fc"
      },
      "source": [
        "answer = \"123\"\n",
        "while True:\n",
        "    password = input('請輸入帳號?')\n",
        "    if password == answer:\n",
        "     print('帳號正確')\n",
        "     break\n",
        "else:\n",
        "    print('登入失敗')"
      ],
      "execution_count": 1,
      "outputs": [
        {
          "output_type": "stream",
          "text": [
            "請輸入帳號?123\n",
            "帳號正確\n"
          ],
          "name": "stdout"
        }
      ]
    },
    {
      "cell_type": "code",
      "metadata": {
        "id": "TPiuV2YqrSYc",
        "colab_type": "code",
        "colab": {
          "base_uri": "https://localhost:8080/",
          "height": 68
        },
        "outputId": "43abca6f-481c-4760-aa2e-7980c2df68db"
      },
      "source": [
        "while True:\n",
        "    acc = input('請輸入帳號?')\n",
        "    pwd = input('請輸入密碼?')\n",
        "    if (acc == '123' and pwd == '456'):\n",
        "       print('帳號與密碼正確')\n",
        "       break\n",
        "else:\n",
        "       print('登入失敗')"
      ],
      "execution_count": 2,
      "outputs": [
        {
          "output_type": "stream",
          "text": [
            "請輸入帳號?123\n",
            "請輸入密碼?456\n",
            "帳號與密碼正確\n"
          ],
          "name": "stdout"
        }
      ]
    },
    {
      "cell_type": "code",
      "metadata": {
        "id": "bcElUt2qrbS1",
        "colab_type": "code",
        "colab": {
          "base_uri": "https://localhost:8080/",
          "height": 51
        },
        "outputId": "f29884f0-8def-4759-a2ab-e74deb17e864"
      },
      "source": [
        "password = \"456789\"\n",
        "times = 0\n",
        "while times <= 3:\n",
        "    answer = input(\"Enter Your Password: \")\n",
        "    if answer == password:\n",
        "       print(\"登入成功\")\n",
        "       break\n",
        "else:\n",
        "    times = times + 1\n",
        "    chance = 3 - times\n",
        "    print(\"密碼錯誤!還有\", chance, \"次機會\")"
      ],
      "execution_count": 3,
      "outputs": [
        {
          "output_type": "stream",
          "text": [
            "Enter Your Password: 456789\n",
            "登入成功\n"
          ],
          "name": "stdout"
        }
      ]
    }
  ]
}