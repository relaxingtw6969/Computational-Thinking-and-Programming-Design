{
  "nbformat": 4,
  "nbformat_minor": 0,
  "metadata": {
    "colab": {
      "name": "while.ipynb",
      "provenance": []
    },
    "kernelspec": {
      "name": "python3",
      "display_name": "Python 3"
    }
  },
  "cells": [
    {
      "cell_type": "code",
      "metadata": {
        "id": "ffxQ8MNZsDtz",
        "colab_type": "code",
        "colab": {}
      },
      "source": [
        "x = 5\n",
        "if x < 10:\n",
        "    print(\"x小於10!\")\n",
        "x = 5 \n",
        "while x < 10: \n",
        "    print(\"x小於10!\")\n",
        "\n",
        "x = 5\n",
        "while x < 10: \n",
        "   print(\"x小於10!\")\n",
        "   print(\"我還在迴圈中!!\") \n",
        "\n",
        "x = 5 \n",
        "while x < 10: \n",
        "    print(\"x小於10!\")\n",
        "    print(\"我要出迴圈!!\")\n",
        "    x = 100 #變更條件\n",
        "    print(\"我出來了\")\n",
        "\n",
        "x = 5 \n",
        "while x < 10: \n",
        "    print(\"x小於10!\")\n",
        "    print(\"我要出迴圈!!\")\n",
        "    x = x + 1 \n",
        "    print(\"我出來了\")"
      ],
      "execution_count": 0,
      "outputs": []
    },
    {
      "cell_type": "code",
      "metadata": {
        "id": "Anrc1A0XsJGX",
        "colab_type": "code",
        "colab": {}
      },
      "source": [
        "x = 1\n",
        "while x < 5 :\n",
        "    print(\"變數x是\", x)\n",
        "    x = x + 1\n",
        "    print(\"Finished\")"
      ],
      "execution_count": 0,
      "outputs": []
    },
    {
      "cell_type": "code",
      "metadata": {
        "id": "8qSVtQ9tsQcz",
        "colab_type": "code",
        "colab": {}
      },
      "source": [
        "x = 0 \n",
        "while x < 10: \n",
        "    x = x + 1 \n",
        "    print(\"This is\",x, \"times hello\")"
      ],
      "execution_count": 0,
      "outputs": []
    },
    {
      "cell_type": "code",
      "metadata": {
        "id": "Tv9PwQUisWRi",
        "colab_type": "code",
        "colab": {}
      },
      "source": [
        "x = 0 \n",
        "while x < 10: \n",
        "    print(\"hello\")\n",
        "    x = x + 1"
      ],
      "execution_count": 0,
      "outputs": []
    },
    {
      "cell_type": "code",
      "metadata": {
        "id": "w_6g2Yx9sZLZ",
        "colab_type": "code",
        "colab": {}
      },
      "source": [
        "x = 0\n",
        "sum = 0\n",
        "\n",
        "while x < 10\n",
        "    x = x + 1\n",
        "    sum =sum + x\n",
        "    print(\"Sum is\",sum)\n",
        "print(\"finished\")"
      ],
      "execution_count": 0,
      "outputs": []
    },
    {
      "cell_type": "code",
      "metadata": {
        "id": "CYYnXguUsfZF",
        "colab_type": "code",
        "colab": {}
      },
      "source": [
        "sum = 0 \n",
        "x = 1\n",
        "while x < 11: \n",
        "sum = sum + x \n",
        "x = x + 2\n",
        "print(\"1 + 3 + 5 + 7 + 9 = \", sum)"
      ],
      "execution_count": 0,
      "outputs": []
    },
    {
      "cell_type": "code",
      "metadata": {
        "id": "wngbYO0csmJa",
        "colab_type": "code",
        "colab": {}
      },
      "source": [
        "sum = 0\n",
        "i = 0\n",
        "while sum <= 1000:\n",
        "i += 1\n",
        "sum += i*i\n",
        "print('最小的n值為', i)"
      ],
      "execution_count": 0,
      "outputs": []
    }
  ]
}