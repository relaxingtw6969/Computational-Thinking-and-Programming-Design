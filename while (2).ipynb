{
  "nbformat": 4,
  "nbformat_minor": 0,
  "metadata": {
    "colab": {
      "name": "while.ipynb",
      "provenance": []
    },
    "kernelspec": {
      "name": "python3",
      "display_name": "Python 3"
    }
  },
  "cells": [
    {
      "cell_type": "code",
      "metadata": {
        "id": "vbBiVvu3zMsj",
        "colab_type": "code",
        "colab": {
          "base_uri": "https://localhost:8080/",
          "height": 34
        },
        "outputId": "dcb30e6c-44ea-48bf-fe33-eef3936dde1d"
      },
      "source": [
        "sum = 0\n",
        "\n",
        "for x in range(1, 11, 2):\n",
        "   sum = sum + x\n",
        "   \n",
        "print(\"1+3+5+7+9=\", sum)"
      ],
      "execution_count": 5,
      "outputs": [
        {
          "output_type": "stream",
          "text": [
            "1+3+5+7+9= 25\n"
          ],
          "name": "stdout"
        }
      ]
    },
    {
      "cell_type": "code",
      "metadata": {
        "id": "27ryxpdPzUO_",
        "colab_type": "code",
        "colab": {
          "base_uri": "https://localhost:8080/",
          "height": 34
        },
        "outputId": "380e0a78-5eb9-4c6c-c33d-fd8f62715ff8"
      },
      "source": [
        "for a in range(6):\n",
        "   print(a, end=\" \")\n",
        "   \n",
        "print(\"\")"
      ],
      "execution_count": 6,
      "outputs": [
        {
          "output_type": "stream",
          "text": [
            "0 1 2 3 4 5 \n"
          ],
          "name": "stdout"
        }
      ]
    },
    {
      "cell_type": "code",
      "metadata": {
        "id": "5cMwWoryzZMk",
        "colab_type": "code",
        "colab": {
          "base_uri": "https://localhost:8080/",
          "height": 34
        },
        "outputId": "6dfe4b7d-1e7b-4590-ee1b-3d2a1c5944ec"
      },
      "source": [
        "for b in range(1, 6, 2):\n",
        "   print(b, end=\" \")\n",
        "\n",
        "print(\"\")"
      ],
      "execution_count": 7,
      "outputs": [
        {
          "output_type": "stream",
          "text": [
            "1 3 5 \n"
          ],
          "name": "stdout"
        }
      ]
    },
    {
      "cell_type": "code",
      "metadata": {
        "id": "lwEl-vpIzffC",
        "colab_type": "code",
        "colab": {
          "base_uri": "https://localhost:8080/",
          "height": 34
        },
        "outputId": "2bc6eaa2-b32d-426e-ac24-a2b2d470757c"
      },
      "source": [
        "for c in range(2, 6):\n",
        "   print(c, end=\" \")\n",
        "   \n",
        "print(\"\")"
      ],
      "execution_count": 8,
      "outputs": [
        {
          "output_type": "stream",
          "text": [
            "2 3 4 5 \n"
          ],
          "name": "stdout"
        }
      ]
    },
    {
      "cell_type": "code",
      "metadata": {
        "id": "S10DBA6KzjaH",
        "colab_type": "code",
        "colab": {
          "base_uri": "https://localhost:8080/",
          "height": 34
        },
        "outputId": "23b3baf7-ea47-4be8-d422-56d2d58f26e5"
      },
      "source": [
        "for d in range(6, 1, -2):\n",
        "   print(d, end=\" \")\n",
        "   \n",
        "print(\"\")"
      ],
      "execution_count": 9,
      "outputs": [
        {
          "output_type": "stream",
          "text": [
            "6 4 2 \n"
          ],
          "name": "stdout"
        }
      ]
    },
    {
      "cell_type": "code",
      "metadata": {
        "id": "Ph0M8LyPzlmQ",
        "colab_type": "code",
        "colab": {
          "base_uri": "https://localhost:8080/",
          "height": 51
        },
        "outputId": "215f5d67-6a9c-4432-ce35-5b16894cee12"
      },
      "source": [
        "n = int(input('請輸入n值?'))\n",
        "sum = 0;\n",
        "for i in range(1,n+1):\n",
        "   sum = sum + i*i;\n",
        "print(sum)"
      ],
      "execution_count": 10,
      "outputs": [
        {
          "output_type": "stream",
          "text": [
            "請輸入n值?5\n",
            "55\n"
          ],
          "name": "stdout"
        }
      ]
    },
    {
      "cell_type": "code",
      "metadata": {
        "id": "BWGOc5JBz5zR",
        "colab_type": "code",
        "colab": {
          "base_uri": "https://localhost:8080/",
          "height": 85
        },
        "outputId": "f5c6058d-393c-4a24-e8c1-d41f700c5c32"
      },
      "source": [
        "a = int(input(\"請輸入第1個數字:\"))\n",
        "b = int(input(\"請輸入第2個數字:\"))\n",
        "\n",
        "for c in range(a, 1, -1):\n",
        "   if (a % c == 0 and b % c == 0):\n",
        "       break\n",
        "print(\"最大公約數 GCD =\", c)\n",
        "\n",
        "for c in range(a, a * b):\n",
        "   if (c % a == 0 and c % b == 0):\n",
        "       break\n",
        "print(\"最小公倍數 LCM =\", c)"
      ],
      "execution_count": 13,
      "outputs": [
        {
          "output_type": "stream",
          "text": [
            "請輸入第1個數字:36\n",
            "請輸入第2個數字:8\n",
            "最大公約數 GCD = 4\n",
            "最小公倍數 LCM = 72\n"
          ],
          "name": "stdout"
        }
      ]
    }
  ]
}