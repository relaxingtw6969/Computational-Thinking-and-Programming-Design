{
  "nbformat": 4,
  "nbformat_minor": 0,
  "metadata": {
    "colab": {
      "name": "week4.鄧皓謙.ipynb",
      "provenance": [],
      "collapsed_sections": []
    },
    "kernelspec": {
      "name": "python3",
      "display_name": "Python 3"
    }
  },
  "cells": [
    {
      "cell_type": "code",
      "metadata": {
        "id": "AyyDu_mVR7ZO",
        "colab_type": "code",
        "colab": {
          "base_uri": "https://localhost:8080/",
          "height": 102
        },
        "outputId": "f970a475-7782-4fbf-e409-bd5a2ee67a42"
      },
      "source": [
        "a=int(input(\"第一次期中考成績\"))\n",
        "b=int(input(\"第二次期中考成績\"))\n",
        "c=int(input(\"期末考成績\"))\n",
        "print(a+b+c)\n",
        "print((a+b+c)/3)"
      ],
      "execution_count": 3,
      "outputs": [
        {
          "output_type": "stream",
          "text": [
            "第一次期中考成績75\n",
            "第二次期中考成績80\n",
            "期末考成績65\n",
            "220\n",
            "73.33333333333333\n"
          ],
          "name": "stdout"
        }
      ]
    },
    {
      "cell_type": "code",
      "metadata": {
        "id": "iBUi0v6eSkvh",
        "colab_type": "code",
        "colab": {
          "base_uri": "https://localhost:8080/",
          "height": 102
        },
        "outputId": "18cf4f63-0bf4-4dc3-e811-67f032cbcdcc"
      },
      "source": [
        "d=int(input(\"請輸入幾尺\"))\n",
        "print(d,\"尺\")\n",
        "e=int(input(\"請輸入幾吋\"))\n",
        "print(e,\"吋\")\n",
        "(d*12+e)*2.54"
      ],
      "execution_count": 6,
      "outputs": [
        {
          "output_type": "stream",
          "text": [
            "請輸入幾尺5\n",
            "5 尺\n",
            "請輸入幾吋8\n",
            "8 吋\n"
          ],
          "name": "stdout"
        },
        {
          "output_type": "execute_result",
          "data": {
            "text/plain": [
              "172.72"
            ]
          },
          "metadata": {
            "tags": []
          },
          "execution_count": 6
        }
      ]
    },
    {
      "cell_type": "code",
      "metadata": {
        "id": "637KUjl5SglA",
        "colab_type": "code",
        "colab": {}
      },
      "source": [
        ""
      ],
      "execution_count": 0,
      "outputs": []
    }
  ]
}